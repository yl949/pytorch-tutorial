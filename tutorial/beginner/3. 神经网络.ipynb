{
 "cells": [
  {
   "cell_type": "markdown",
   "metadata": {},
   "source": [
    "# 神经网络\n",
    "神经网络可以用 <font color=red>torch.nn</font> 这个包来构建\n",
    "\n",
    "我们已经介绍过 <font color=red>autograd</font>，而 <font color=red>nn</font> 是依赖于 <font color=red>nn</font> 来定义模型以及求微分。一个 <font color=red>nn.Module</font> 包含构建模型的 <font color=red>层（layers）</font> 和一个方法 <font color=red>forward（input）</font>。<font color=red>forward（input）</font> 这个方法返回 <font color=red>output</font>。\n",
    "\n",
    "训练一个神经网络的典型步骤如下：\n",
    "1. 定义一个神经网络。这个网络有一些可以学习的参数（或者权重）\n",
    "2. 遍历输入进行迭代\n",
    "3. 通过神经网络处理输入\n",
    "4. 计算损失（离正确的输出还有多远）\n",
    "5. 对神经网络的参数进行梯度反向传播\n",
    "6. 更新神经网络的权重，一般用简单的规则：<font color=red>weight = weight - learning_rate * gradient</font>\n",
    "\n",
    "## 定义神经网络\n",
    "让我们来定义一个神经网络："
   ]
  },
  {
   "cell_type": "code",
   "execution_count": 12,
   "metadata": {},
   "outputs": [
    {
     "name": "stdout",
     "output_type": "stream",
     "text": [
      "Net(\n",
      "  (conv1): Conv2d(1, 6, kernel_size=(5, 5), stride=(1, 1))\n",
      "  (conv2): Conv2d(6, 16, kernel_size=(5, 5), stride=(1, 1))\n",
      "  (fc1): Linear(in_features=400, out_features=120, bias=True)\n",
      "  (fc2): Linear(in_features=120, out_features=84, bias=True)\n",
      "  (fc3): Linear(in_features=84, out_features=10, bias=True)\n",
      ")\n"
     ]
    }
   ],
   "source": [
    "import torch\n",
    "import torch.nn as nn\n",
    "import torch.nn.functional as F\n",
    "\n",
    "class Net(nn.Module):\n",
    "    def __init__(self):\n",
    "        super(Net, self).__init__()\n",
    "        # 1 input image channel, 6 output channels, 5x5 square convolution\n",
    "        # kernel\n",
    "        self.conv1 = nn.Conv2d(1, 6, 5)\n",
    "        self.conv2 = nn.Conv2d(6, 16, 5)\n",
    "        # an affine operation: y = Wx + b\n",
    "        self.fc1 = nn.Linear(16 * 5 * 5, 120)\n",
    "        self.fc2 = nn.Linear(120, 84)\n",
    "        self.fc3 = nn.Linear(84, 10)\n",
    "\n",
    "    def forward(self, x):\n",
    "        # Max pooling over a (2, 2) window\n",
    "        x = F.max_pool2d(F.relu(self.conv1(x)), (2, 2))\n",
    "        # If the size is a square you can only specify a single number\n",
    "        x = F.max_pool2d(F.relu(self.conv2(x)), 2)\n",
    "        x = x.view(-1, self.num_flat_features(x))\n",
    "        x = F.relu(self.fc1(x))\n",
    "        x = F.relu(self.fc2(x))\n",
    "        x = self.fc3(x)\n",
    "        return x\n",
    "\n",
    "    def num_flat_features(self, x):\n",
    "        size = x.size()[1:]  # all dimensions except the batch dimension\n",
    "        num_features = 1\n",
    "        for s in size:\n",
    "            num_features *= s\n",
    "        return num_features\n",
    "\n",
    "\n",
    "net = Net()\n",
    "print(net)"
   ]
  },
  {
   "cell_type": "markdown",
   "metadata": {},
   "source": [
    "我们已经定义了 <font color=red>forward</font> 方法。当你使用了 <font color=red>autograd</font> 的话， <font color=red>backward</font> 方法（用于梯度的计算）会被自动定义。我们可以在 <font color=red>forward</font> 方法里用各种操作（operations）。\n",
    "\n",
    "模型中那些可学习的参数可以通过调用 <font color=red>net.parameters()</font> 方法返回："
   ]
  },
  {
   "cell_type": "code",
   "execution_count": 13,
   "metadata": {},
   "outputs": [
    {
     "name": "stdout",
     "output_type": "stream",
     "text": [
      "<generator object Module.parameters at 0x10cd10728>\n",
      "10\n",
      "torch.Size([6, 1, 5, 5])\n"
     ]
    }
   ],
   "source": [
    "print(net.parameters()) # we can see the net.parameters() method is return a generator\n",
    "params = list(net.parameters())\n",
    "print(len(params))\n",
    "print(params[0].size()) # conv1's .weight"
   ]
  },
  {
   "cell_type": "code",
   "execution_count": 14,
   "metadata": {},
   "outputs": [
    {
     "name": "stdout",
     "output_type": "stream",
     "text": [
      "the torch.Size([6, 1, 5, 5])th params size is: \n",
      "the torch.Size([6])th params size is: \n",
      "the torch.Size([16, 6, 5, 5])th params size is: \n",
      "the torch.Size([16])th params size is: \n",
      "the torch.Size([120, 400])th params size is: \n",
      "the torch.Size([120])th params size is: \n",
      "the torch.Size([84, 120])th params size is: \n",
      "the torch.Size([84])th params size is: \n",
      "the torch.Size([10, 84])th params size is: \n",
      "the torch.Size([10])th params size is: \n"
     ]
    }
   ],
   "source": [
    "# The net has 5 layers, but len(params) is 10. Because there are bias at every layers\n",
    "for i in range(10):\n",
    "    print(\"the {}th params size is: \".format(params[i].size()))"
   ]
  },
  {
   "cell_type": "markdown",
   "metadata": {},
   "source": [
    "现在我们来尝试一个32x32的输入。注意对于这个网络（LeNet）而言，其输入的大小必须是32x32。如果想把这个网络用于 MNIST 数据集，请把数据集中的图片转变为32x32大小"
   ]
  },
  {
   "cell_type": "code",
   "execution_count": 15,
   "metadata": {},
   "outputs": [
    {
     "name": "stdout",
     "output_type": "stream",
     "text": [
      "tensor([[-0.0066, -0.0071, -0.0008, -0.0798,  0.0594,  0.1498, -0.0205,\n",
      "          0.0077, -0.0582,  0.1156]])\n"
     ]
    }
   ],
   "source": [
    "input = torch.randn(1, 1, 32, 32)\n",
    "out = net(input)\n",
    "print(out)"
   ]
  },
  {
   "cell_type": "markdown",
   "metadata": {},
   "source": [
    "把所有参数的梯度缓冲区（buffers）清零，然后用随机梯度进行反向传播："
   ]
  },
  {
   "cell_type": "code",
   "execution_count": 16,
   "metadata": {},
   "outputs": [],
   "source": [
    "net.zero_grad()\n",
    "out.backward(torch.randn(1, 10))"
   ]
  },
  {
   "cell_type": "markdown",
   "metadata": {},
   "source": [
    "<font color=red>**注意**：</font> <font color=red>torch.nn</font> 只支持 mini-batches。整个 torch.nn 包只支持是 mini-batch 的样本，而不支持单个样本。\n",
    "例如：<font color=red>nn.Conv2d</font> 的输入是个 4D 的 Tensor <font color=red>nSamples * nChanels * Height * Weight</font>。\n",
    "如果输入为单个样本的话，只需要用 <font color=red>input.unsqueeze(0)</font> 来多增加一维假的 batch 维度。\n",
    "\n",
    "在继续介绍之前，让我们来回顾下截止目前已经见过的 classes。\n",
    "### 复习：\n",
    "<font color=red>torch.Tensor</font> - 一个支持像 <font color=red>backward（）</font> 这样的自动求取梯度操作的多维数组。而且也存放着相对于该 tensor 的梯度。\n",
    "<font color=red>nn.Module</font> - 神经网络模块。是一种非常方便的用于封装参数的方法。它提供了将参数移入GPU，载入和转出等等功能。\n",
    "<font color=red>nn.Parameter</font> - 是一种 Tensor。可以通过赋值来确定一个 <font color=red>Module</font> 的属性。\n",
    "<font color=red>autograd.Function</font> - 用于实现 autograd 操作中 forward 和 backward 的定义。每个 <font color=red>autograd.Function</font> - 用于实现 autograd 操作中 forward 和 backward 的定义。每个 <font color=red>Tensor</font> 操作创建了至少一个 <font color=red>Function</font> 节点（node）。这个节点和产生该 Tensor 的 functions 连接并编码它的历史。\n",
    "\n",
    "### 截止目前，我们已经介绍了：\n",
    "定义一个神经网络\n",
    "前向处理输入和调用反向传播\n",
    "### 还剩下：\n",
    "计算损失（loss）\n",
    "更新神经网络的权重\n",
    "\n",
    "## 损失函数（Loss Function）\n",
    "损失函数的接受一对输入（输出【output】和目标【target】）得到一个输出值。这个输出值估计了模型 output 和 target 之间的距离。（我们希望loss越小越好，即 output 和 target 越近越好）\n",
    "\n",
    "nn 包中有很多种不同的 <font color=red>loss function</font>。一个简单的损失函数是： <font color=red>nn.MSELoss</font>。它计算输出和目标之间的均方差（mean-squared error)。\n",
    "\n",
    "例如："
   ]
  },
  {
   "cell_type": "code",
   "execution_count": 17,
   "metadata": {},
   "outputs": [
    {
     "name": "stdout",
     "output_type": "stream",
     "text": [
      "tensor(38.2243)\n"
     ]
    }
   ],
   "source": [
    "output = net(input)\n",
    "target = torch.randn(10) # a dummy target, for example\n",
    "target = target.view(1, -1) # make it the same shape as output\n",
    "criterion = nn.MSELoss()\n",
    "\n",
    "loss = criterion(output, target)\n",
    "print(loss)"
   ]
  },
  {
   "cell_type": "markdown",
   "metadata": {},
   "source": [
    "现在，如果你顺着 <font color=red>loss</font> 方向传播的方向用它的 <font color=red>.grad_fn</font> 属性，你将看到如下的一幅计算图：\n",
    "```\n",
    "input -> conv2d -> relu -> maxpool2d -> conv2d -> relu -> maxpool2d\n",
    "      -> view -> linear -> relu -> linear -> relu -> linear\n",
    "      -> MSELoss\n",
    "      -> loss\n",
    "```\n",
    "所以当我们调用 <font color=red>loss.backward()</font> 时，loss就对整张图进行求微分。所有图中 <font color=red>requires_grad=True</font> 的 Tensors 会在他们的 <font color=red>.grad Tensor</font> 累积梯度。\n",
    "\n",
    "为了说明，让我们顺着反向传播的方向走几步瞧瞧：\n"
   ]
  },
  {
   "cell_type": "code",
   "execution_count": 18,
   "metadata": {},
   "outputs": [
    {
     "name": "stdout",
     "output_type": "stream",
     "text": [
      "<MseLossBackward object at 0x10cd1a828>\n",
      "<AddmmBackward object at 0x10cd1a898>\n",
      "<ExpandBackward object at 0x10cd1a828>\n"
     ]
    }
   ],
   "source": [
    "print(loss.grad_fn) # MSELoss\n",
    "print(loss.grad_fn.next_functions[0][0]) # Linear\n",
    "print(loss.grad_fn.next_functions[0][0].next_functions[0][0]) # ReLU"
   ]
  },
  {
   "cell_type": "markdown",
   "metadata": {},
   "source": [
    "## 反向传播（Backprop）\n",
    "为了反向传播错误，我们调用 <font color=red>loss.backward()</font>。你需要清空当前已存在的梯度（gradients），否则梯度（gradients）将被累积到已经存在的梯度。\n",
    "\n",
    "现在我们调用下 <font color=red>loss.backward()</font>，分别看看 conv1 层偏置项（bias）在反向传播前后的梯度值。"
   ]
  },
  {
   "cell_type": "code",
   "execution_count": 19,
   "metadata": {},
   "outputs": [
    {
     "name": "stdout",
     "output_type": "stream",
     "text": [
      "conv1.bias.grad before backward\n",
      "tensor([ 0.,  0.,  0.,  0.,  0.,  0.])\n",
      "conv1.bias.grad after backward\n",
      "tensor([-0.0749,  0.0364, -0.0012,  0.1658, -0.0459, -0.1590])\n"
     ]
    }
   ],
   "source": [
    "net.zero_grad() # zeroes the gradient buffers of all parameters\n",
    "\n",
    "print('conv1.bias.grad before backward')\n",
    "print(net.conv1.bias.grad)\n",
    "\n",
    "loss.backward()\n",
    "\n",
    "print('conv1.bias.grad after backward')\n",
    "print(net.conv1.bias.grad)"
   ]
  },
  {
   "cell_type": "markdown",
   "metadata": {},
   "source": [
    "现在，我们已经知道如何来使用 loss functions。\n",
    "### 后续阅读：\n",
    "在神经网络包中包含了很多模块（module）和损失函数（loss functions）。全面的文档详见[这里](https://pytorch.org/docs/stable/nn.html)\n",
    "### 现在只剩下：\n",
    "更新网络权重\n",
    "## 更新权重\n",
    "在实践中，最简单的更新权重的算法为随机梯度下降法（Stochastic Gradient Descent 【SGD】）：\n",
    "\n",
    "<font color=red>weight = weight - learning_rate * gradient</font> \n",
    "\n",
    "我们可以通过下面的 python 代码简单实现："
   ]
  },
  {
   "cell_type": "code",
   "execution_count": 20,
   "metadata": {},
   "outputs": [],
   "source": [
    "learning_rate = 0.01\n",
    "for f in net.parameters():\n",
    "    f.data.sub_(f.grad.data * learning_rate)"
   ]
  },
  {
   "cell_type": "markdown",
   "metadata": {},
   "source": [
    "然而，当我们使用神经网络时，我们通常想用不同的更新法则，比如 SGD, Nesterov-SGD, Adam, RMSProp 等等。所以 pytorch 提供了一个包： <font color=red>torch.optim</font> 来实现这些方法。运用这个包非常简单："
   ]
  },
  {
   "cell_type": "code",
   "execution_count": 21,
   "metadata": {},
   "outputs": [],
   "source": [
    "import torch.optim as optim\n",
    "\n",
    "# create your optimizer\n",
    "optimizer = optim.SGD(net.parameters(), lr=0.01)\n",
    "\n",
    "# in your training loop:\n",
    "optimizer.zero_grad() # zero the gradient buffers\n",
    "output = net(input)\n",
    "loss = criterion(output, target)\n",
    "loss.backward()\n",
    "optimizer.step() # Does the update"
   ]
  },
  {
   "cell_type": "markdown",
   "metadata": {},
   "source": [
    "<font color=red>**注意**：</font>因为在说明<font color=red>反向传播（Backprop）</font>这一节时，梯度已经累积，所以在这里，我们需要手动用 <font color=red>optimizer.zero_grad()</font> 为 gradients buffers 置0。"
   ]
  }
 ],
 "metadata": {
  "kernelspec": {
   "display_name": "Python 3",
   "language": "python",
   "name": "python3"
  },
  "language_info": {
   "codemirror_mode": {
    "name": "ipython",
    "version": 3
   },
   "file_extension": ".py",
   "mimetype": "text/x-python",
   "name": "python",
   "nbconvert_exporter": "python",
   "pygments_lexer": "ipython3",
   "version": "3.6.4"
  }
 },
 "nbformat": 4,
 "nbformat_minor": 2
}
